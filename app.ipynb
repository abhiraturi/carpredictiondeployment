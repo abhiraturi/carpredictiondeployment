{
 "cells": [
  {
   "cell_type": "code",
   "execution_count": 11,
   "metadata": {},
   "outputs": [],
   "source": [
    "import os\n",
    "import numpy as np\n",
    "import flask\n",
    "import pickle\n",
    "from flask import Flask,redirect,url_for,request,render_template"
   ]
  },
  {
   "cell_type": "code",
   "execution_count": 12,
   "metadata": {},
   "outputs": [],
   "source": [
    "#creating instance of the class\n",
    "app=Flask(__name__,template_folder='templates')\n",
    "\n",
    "#to tell flask what url should trigger the function index()\n",
    "@app.route('/')\n",
    "@app.route('/index')\n",
    "def index():\n",
    "    return flask.render_template('index.html')"
   ]
  },
  {
   "cell_type": "code",
   "execution_count": 13,
   "metadata": {},
   "outputs": [],
   "source": [
    "#prediction function\n",
    "def ValuePredictor(to_predict_list):\n",
    "    to_predict=np.array(to_predict_list).reshape(1,7)\n",
    "    loaded_model=pickle.load(open(\"model.pkl\",\"rb\"))\n",
    "    result=loaded_model.predict(to_predict)\n",
    "    return(result[0])\n",
    "\n",
    "# @app.route('/result',methods=['POST'])\n",
    "# def result():\n",
    "#     prediction=result\n",
    "#     return render_template(\"result.html\",prediction=prediction)\n",
    "\n",
    "@app.route('/result',methods=['POST'])\n",
    "def result():\n",
    "    if request.method == 'POST':\n",
    "        #prediction=result\n",
    "        to_predict_list = request.form.to_dict()\n",
    "        to_predict_list = list(to_predict_list.values())\n",
    "        to_predict_list = list(map(int, to_predict_list))\n",
    "        result = ValuePredictor(to_predict_list)                  \n",
    "        return render_template(\"result.html\", prediction = result)"
   ]
  },
  {
   "cell_type": "code",
   "execution_count": 14,
   "metadata": {},
   "outputs": [],
   "source": [
    "# if __name__==\"main\":\n",
    "#     app.run(debug=True,port=8000)"
   ]
  },
  {
   "cell_type": "code",
   "execution_count": 15,
   "metadata": {},
   "outputs": [
    {
     "name": "stdout",
     "output_type": "stream",
     "text": [
      " * Serving Flask app \"__main__\" (lazy loading)\n",
      " * Environment: production\n",
      "   WARNING: This is a development server. Do not use it in a production deployment.\n",
      "   Use a production WSGI server instead.\n",
      " * Debug mode: on\n"
     ]
    },
    {
     "name": "stderr",
     "output_type": "stream",
     "text": [
      " * Restarting with windowsapi reloader\n",
      " * Running on http://localhost:9000/ (Press CTRL+C to quit)\n"
     ]
    },
    {
     "name": "stdout",
     "output_type": "stream",
     "text": [
      "Exception occured!\n"
     ]
    }
   ],
   "source": [
    "try: \n",
    "    # works fine while running the py script in the command-line \n",
    "    app.run(debug=True,port=8000)\n",
    "except:\n",
    "    # internal issue with Jupyter Notebook\n",
    "    print(\"Exception occured!\")\n",
    "    # running manually\n",
    "    from werkzeug.serving import run_simple\n",
    "    run_simple('localhost', 9000, app)"
   ]
  },
  {
   "cell_type": "code",
   "execution_count": null,
   "metadata": {},
   "outputs": [],
   "source": []
  }
 ],
 "metadata": {
  "kernelspec": {
   "display_name": "Python 3",
   "language": "python",
   "name": "python3"
  },
  "language_info": {
   "codemirror_mode": {
    "name": "ipython",
    "version": 3
   },
   "file_extension": ".py",
   "mimetype": "text/x-python",
   "name": "python",
   "nbconvert_exporter": "python",
   "pygments_lexer": "ipython3",
   "version": "3.7.6"
  }
 },
 "nbformat": 4,
 "nbformat_minor": 4
}
